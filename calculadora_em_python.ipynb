{
  "nbformat": 4,
  "nbformat_minor": 0,
  "metadata": {
    "colab": {
      "provenance": [],
      "authorship_tag": "ABX9TyPEbECxgPTH3B8yH2kKX/6y",
      "include_colab_link": true
    },
    "kernelspec": {
      "name": "python3",
      "display_name": "Python 3"
    },
    "language_info": {
      "name": "python"
    }
  },
  "cells": [
    {
      "cell_type": "markdown",
      "metadata": {
        "id": "view-in-github",
        "colab_type": "text"
      },
      "source": [
        "<a href=\"https://colab.research.google.com/github/wernedhh/Calculadora-em-python/blob/main/calculadora_em_python.ipynb\" target=\"_parent\"><img src=\"https://colab.research.google.com/assets/colab-badge.svg\" alt=\"Open In Colab\"/></a>"
      ]
    },
    {
      "cell_type": "code",
      "execution_count": 24,
      "metadata": {
        "colab": {
          "base_uri": "https://localhost:8080/"
        },
        "id": "Xr8PtihVChXp",
        "outputId": "e5f43bf7-ba26-4468-855e-743d3b173aa9"
      },
      "outputs": [
        {
          "output_type": "stream",
          "name": "stdout",
          "text": [
            "Selecione a operação desejada:\n",
            "1.Adição\n",
            "2.Subtração\n",
            "3.Mutiplicação\n",
            "4.Divisão\n",
            "Digite o número da operação desejada(1/2/3/4):4\n",
            "Digite o primeiro numero:2\n",
            "Digite o segundo numero:0\n",
            "Erro: Divisão por zero!\n"
          ]
        }
      ],
      "source": [
        "print(\"Selecione a operação desejada:\")\n",
        "print(\"1.Adição\")\n",
        "print(\"2.Subtração\")\n",
        "print(\"3.Mutiplicação\")\n",
        "print(\"4.Divisão\")\n",
        "\n",
        "opcao = input(\"Digite o número da operação desejada(1/2/3/4):\")\n",
        "\n",
        "numero1=float(input(\"Digite o primeiro numero:\"))\n",
        "numero2=float(input(\"Digite o segundo numero:\"))\n",
        "\n",
        "if opcao =='1':\n",
        "   resultado = numero1 + numero2\n",
        "   print(\"Resultado:\",resultado)\n",
        "elif opcao =='2':\n",
        "  resultado= numero1 - numero2\n",
        "  print(\"Resultado:\",resultado)\n",
        "elif opcao== '3':\n",
        "    resultado= numero1 * numero2\n",
        "    print(\"Resultado:\",resultado)\n",
        "\n",
        "elif opcao =='4':\n",
        "  if numero2!=0:\n",
        "    resultado= numero1/numero2\n",
        "    print(\"Resultado:\",resultado)\n",
        "  else:\n",
        "   print(\"Erro: Divisão por zero!\")\n",
        "else:\n",
        " print(\"Opção inválida. Por favor,escolha uma opção válida.\")\n"
      ]
    }
  ]
}